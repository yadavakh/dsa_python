{
 "cells": [
  {
   "cell_type": "code",
   "execution_count": 16,
   "id": "6cc2b4bd",
   "metadata": {},
   "outputs": [],
   "source": [
    "class BSTNode:\n",
    "    def __init__(self,data):\n",
    "        self.data = data\n",
    "        self.leftChild = None\n",
    "        self.rightChild = None\n",
    "        "
   ]
  },
  {
   "cell_type": "code",
   "execution_count": 17,
   "id": "9743291e",
   "metadata": {},
   "outputs": [],
   "source": [
    "#object create / Node created\n",
    "mytree = BSTNode(None)"
   ]
  },
  {
   "cell_type": "code",
   "execution_count": 18,
   "id": "9d9565c7",
   "metadata": {},
   "outputs": [
    {
     "data": {
      "text/plain": [
       "{'data': None, 'leftChild': None, 'rightChild': None}"
      ]
     },
     "execution_count": 18,
     "metadata": {},
     "output_type": "execute_result"
    }
   ],
   "source": [
    "mytree.__dict__"
   ]
  },
  {
   "cell_type": "code",
   "execution_count": null,
   "id": "295dead2",
   "metadata": {},
   "outputs": [],
   "source": []
  },
  {
   "cell_type": "code",
   "execution_count": 19,
   "id": "f0e2fbba",
   "metadata": {},
   "outputs": [],
   "source": [
    "# Create BST Tree\n",
    "def insertNode(rootNode, nodeValue):\n",
    "    # case1 : insert data into root node: first time in BST\n",
    "    if rootNode.data == None:\n",
    "        rootNode.data = nodeValue\n",
    "    # case2: data less than or equal to parent: left child\n",
    "    # nodeValue = 50\n",
    "    elif nodeValue <= rootNode.data:\n",
    "        if rootNode.leftChild == None:\n",
    "            rootNode.leftChild = BSTNode(nodeValue)\n",
    "        else:\n",
    "            insertNode(rootNode.leftChild , nodeValue)\n",
    "    \n",
    "    # case 3: data more than parent : right side\n",
    "    else:\n",
    "        if rootNode.rightChild == None:\n",
    "            rootNode.rightChild = BSTNode(nodeValue)\n",
    "        else:\n",
    "            insertNode(rootNode.rightChild , nodeValue)"
   ]
  },
  {
   "cell_type": "code",
   "execution_count": 20,
   "id": "b983bd38",
   "metadata": {},
   "outputs": [],
   "source": [
    "insertNode(mytree,60)"
   ]
  },
  {
   "cell_type": "code",
   "execution_count": 21,
   "id": "106079af",
   "metadata": {},
   "outputs": [
    {
     "data": {
      "text/plain": [
       "{'data': 60, 'leftChild': None, 'rightChild': None}"
      ]
     },
     "execution_count": 21,
     "metadata": {},
     "output_type": "execute_result"
    }
   ],
   "source": [
    "mytree.__dict__"
   ]
  },
  {
   "cell_type": "code",
   "execution_count": 22,
   "id": "7023df18",
   "metadata": {},
   "outputs": [],
   "source": [
    "insertNode(mytree,50)"
   ]
  },
  {
   "cell_type": "code",
   "execution_count": 23,
   "id": "f5669543",
   "metadata": {},
   "outputs": [],
   "source": [
    "insertNode(mytree,90)"
   ]
  },
  {
   "cell_type": "code",
   "execution_count": 24,
   "id": "24831eaf",
   "metadata": {},
   "outputs": [],
   "source": [
    "insertNode(mytree,30)"
   ]
  },
  {
   "cell_type": "code",
   "execution_count": 25,
   "id": "a350abff",
   "metadata": {},
   "outputs": [
    {
     "data": {
      "text/plain": [
       "90"
      ]
     },
     "execution_count": 25,
     "metadata": {},
     "output_type": "execute_result"
    }
   ],
   "source": [
    "mytree.rightChild.data"
   ]
  },
  {
   "cell_type": "code",
   "execution_count": null,
   "id": "9d5f0407",
   "metadata": {},
   "outputs": [],
   "source": []
  },
  {
   "cell_type": "code",
   "execution_count": null,
   "id": "9acfc1ec",
   "metadata": {},
   "outputs": [],
   "source": []
  }
 ],
 "metadata": {
  "kernelspec": {
   "display_name": "Python 3 (ipykernel)",
   "language": "python",
   "name": "python3"
  },
  "language_info": {
   "codemirror_mode": {
    "name": "ipython",
    "version": 3
   },
   "file_extension": ".py",
   "mimetype": "text/x-python",
   "name": "python",
   "nbconvert_exporter": "python",
   "pygments_lexer": "ipython3",
   "version": "3.9.7"
  }
 },
 "nbformat": 4,
 "nbformat_minor": 5
}

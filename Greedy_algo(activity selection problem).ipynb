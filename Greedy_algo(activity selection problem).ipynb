{
 "cells": [
  {
   "cell_type": "code",
   "execution_count": 7,
   "metadata": {},
   "outputs": [],
   "source": [
    "a=[\n",
    "    [\"A1\",0,6],\n",
    "  [\"A2\",3,4],\n",
    "  [\"A3\",1,2],\n",
    "  [\"A4\",5,8],\n",
    "  [\"A5\",5,7],\n",
    "  [\"A6\",8,9]\n",
    "  ]"
   ]
  },
  {
   "cell_type": "code",
   "execution_count": 8,
   "metadata": {},
   "outputs": [
    {
     "data": {
      "text/plain": [
       "[['A1', 0, 6],\n",
       " ['A2', 3, 4],\n",
       " ['A3', 1, 2],\n",
       " ['A4', 5, 8],\n",
       " ['A5', 5, 7],\n",
       " ['A6', 8, 9]]"
      ]
     },
     "execution_count": 8,
     "metadata": {},
     "output_type": "execute_result"
    }
   ],
   "source": [
    "a"
   ]
  },
  {
   "cell_type": "code",
   "execution_count": 4,
   "metadata": {},
   "outputs": [],
   "source": [
    "#ASP\n",
    "#method - Greedy algo\n",
    "#lambda is use to create function here which return third ele of each 1Darray\n",
    "\n",
    "a.sort(key = lambda x: x[2])"
   ]
  },
  {
   "cell_type": "code",
   "execution_count": 5,
   "metadata": {},
   "outputs": [
    {
     "data": {
      "text/plain": [
       "[['A3', 1, 2],\n",
       " ['A2', 3, 4],\n",
       " ['A1', 0, 6],\n",
       " ['A5', 5, 7],\n",
       " ['A4', 5, 8],\n",
       " ['A6', 8, 9]]"
      ]
     },
     "execution_count": 5,
     "metadata": {},
     "output_type": "execute_result"
    }
   ],
   "source": [
    "a"
   ]
  },
  {
   "cell_type": "code",
   "execution_count": 12,
   "metadata": {},
   "outputs": [],
   "source": [
    "def asp(activities):\n",
    "    activities.sort(key=lambda x:x[2])\n",
    "    i=0\n",
    "    firstA = activities[i][0]\n",
    "    print(firstA)\n",
    "    for j in range(len(activities)):\n",
    "        if activities[j][1] > activities[i][2]:\n",
    "            print(activities[j][0])\n",
    "            i=j"
   ]
  },
  {
   "cell_type": "code",
   "execution_count": 13,
   "metadata": {},
   "outputs": [
    {
     "name": "stdout",
     "output_type": "stream",
     "text": [
      "A3\n",
      "A2\n",
      "A5\n",
      "A6\n"
     ]
    }
   ],
   "source": [
    "asp(a)"
   ]
  },
  {
   "cell_type": "code",
   "execution_count": null,
   "metadata": {},
   "outputs": [],
   "source": []
  }
 ],
 "metadata": {
  "kernelspec": {
   "display_name": "Python 3",
   "language": "python",
   "name": "python3"
  },
  "language_info": {
   "codemirror_mode": {
    "name": "ipython",
    "version": 3
   },
   "file_extension": ".py",
   "mimetype": "text/x-python",
   "name": "python",
   "nbconvert_exporter": "python",
   "pygments_lexer": "ipython3",
   "version": "3.8.3"
  }
 },
 "nbformat": 4,
 "nbformat_minor": 4
}
